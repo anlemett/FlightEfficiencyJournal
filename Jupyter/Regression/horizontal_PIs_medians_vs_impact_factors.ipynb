{
 "cells": [
  {
   "cell_type": "code",
   "execution_count": 1,
   "metadata": {},
   "outputs": [],
   "source": [
    "%matplotlib inline\n",
    "\n",
    "seed_value = 100\n",
    "import os\n",
    "os.environ['PYTHONHASHSEED']=str(seed_value)\n",
    "import random\n",
    "random.seed(seed_value)\n",
    "\n",
    "import numpy as np\n",
    "import pandas as pd\n",
    "import matplotlib.pyplot as plt\n",
    "import plotly\n",
    "import plotly.graph_objs as go\n",
    "import seaborn as sns\n",
    "\n",
    "from sklearn.linear_model import LinearRegression\n",
    "from sklearn import metrics\n",
    "import statsmodels.api as sm\n",
    "from scipy import stats"
   ]
  },
  {
   "cell_type": "markdown",
   "metadata": {},
   "source": [
    "# Data uploading"
   ]
  },
  {
   "cell_type": "code",
   "execution_count": 2,
   "metadata": {},
   "outputs": [],
   "source": [
    "AIRPORT_ICAO = \"ESGG\"\n",
    "#AIRPORT_ICAO = \"ESSA\"\n",
    "\n",
    "#runway = \"21\"\n",
    "#cluster = 2\n",
    "\n",
    "DATA_DIR = os.path.join(\"..\", \"..\")\n",
    "DATA_DIR = os.path.join(DATA_DIR, \"data\")\n",
    "DATA_DIR = os.path.join(DATA_DIR, \"Regression\")\n",
    "\n",
    "# AIF\n",
    "filename = AIRPORT_ICAO + \"_metrics_AIF_horizontal_PIs_by_hour.csv\"\n",
    "#filename = AIRPORT_ICAO + \"_metrics_AIF_horizontal_PIs_by_hour_rwy\" + runway + \"_cluster\" + str(cluster) +\".csv\"\n",
    "full_filename = os.path.join(DATA_DIR, filename)\n",
    "metrics_AIF_horizontal_PIs_by_hour_df = pd.read_csv(full_filename, sep=' ')\n",
    "\n",
    "# WIF\n",
    "filename = AIRPORT_ICAO + \"_metrics_WIF_horizontal_PIs_by_hour.csv\"\n",
    "#filename = AIRPORT_ICAO + \"_metrics_WIF_horizontal_PIs_by_hour_rwy\" + runway + \"_cluster\" + str(cluster) +\".csv\"\n",
    "full_filename = os.path.join(DATA_DIR, filename)\n",
    "metrics_WIF_horizontal_PIs_by_hour_df = pd.read_csv(full_filename, sep=' ')\n",
    "\n",
    "# TIF\n",
    "filename = AIRPORT_ICAO + \"_metrics_TIF_horizontal_PIs_by_hour.csv\"\n",
    "#filename = AIRPORT_ICAO + \"_metrics_TIF_horizontal_PIs_by_hour_rwy\" + runway + \"_cluster\" + str(cluster) +\".csv\"\n",
    "full_filename = os.path.join(DATA_DIR, filename)\n",
    "metrics_TIF_horizontal_PIs_by_hour_df = pd.read_csv(full_filename, sep=' ')"
   ]
  },
  {
   "cell_type": "markdown",
   "metadata": {},
   "source": [
    "# Average Additional Distance"
   ]
  },
  {
   "cell_type": "markdown",
   "metadata": {},
   "source": [
    "## Medians of Average Additional Distance in TMA vs TIF"
   ]
  },
  {
   "cell_type": "code",
   "execution_count": 3,
   "metadata": {},
   "outputs": [
    {
     "name": "stdout",
     "output_type": "stream",
     "text": [
      "1611\n",
      "902\n",
      "617\n",
      "430\n",
      "291\n",
      "195\n",
      "29\n",
      "                            OLS Regression Results                            \n",
      "==============================================================================\n",
      "Dep. Variable:      addDistanceMedian   R-squared:                       0.792\n",
      "Model:                            OLS   Adj. R-squared:                  0.750\n",
      "Method:                 Least Squares   F-statistic:                     19.02\n",
      "Date:                Fri, 29 Apr 2022   Prob (F-statistic):            0.00728\n",
      "Time:                        11:08:13   Log-Likelihood:                -13.837\n",
      "No. Observations:                   7   AIC:                             31.67\n",
      "Df Residuals:                       5   BIC:                             31.57\n",
      "Df Model:                           1                                         \n",
      "Covariance Type:            nonrobust                                         \n",
      "==============================================================================\n",
      "                 coef    std err          t      P>|t|      [0.025      0.975]\n",
      "------------------------------------------------------------------------------\n",
      "const          7.6261      1.554      4.906      0.004       3.630      11.622\n",
      "x1             1.0795      0.248      4.361      0.007       0.443       1.716\n",
      "==============================================================================\n",
      "Omnibus:                          nan   Durbin-Watson:                   2.629\n",
      "Prob(Omnibus):                    nan   Jarque-Bera (JB):                0.387\n",
      "Skew:                          -0.505   Prob(JB):                        0.824\n",
      "Kurtosis:                       3.552   Cond. No.                         12.7\n",
      "==============================================================================\n",
      "\n",
      "Notes:\n",
      "[1] Standard Errors assume that the covariance matrix of the errors is correctly specified.\n"
     ]
    },
    {
     "name": "stderr",
     "output_type": "stream",
     "text": [
      "C:\\Users\\anale19\\Anaconda3\\lib\\site-packages\\statsmodels\\stats\\stattools.py:74: ValueWarning: omni_normtest is not valid with less than 8 observations; 7 samples were given.\n",
      "  warn(\"omni_normtest is not valid with less than 8 observations; %i \"\n"
     ]
    },
    {
     "data": {
      "image/png": "[encoded data removed]",
      "text/plain": [
       "<Figure size 432x288 with 1 Axes>"
      ]
     },
     "metadata": {},
     "output_type": "display_data"
    }
   ],
   "source": [
    "df = metrics_TIF_horizontal_PIs_by_hour_df.copy()\n",
    "#df = df[df['numberOfFlights']>0]\n",
    "p1 = df[\"distanceChangePercentMean\"].quantile(0.05)\n",
    "p2 = df[\"distanceChangePercentMean\"].quantile(0.95)\n",
    "df = df.loc[(df['distanceChangePercentMean'] > p1) & (df['distanceChangePercentMean'] < p2) ]\n",
    "\n",
    "df.set_index(['TIF'], inplace=True)\n",
    "df.sort_index(inplace=True)\n",
    "\n",
    "median_df = pd.DataFrame(columns=['TIF', 'addDistanceMedian'])\n",
    "\n",
    "for idx, group in df.groupby(level='TIF'):\n",
    "    \n",
    "    #idx_df = df.loc[idx]['additionalDistanceMedian']\n",
    "    idx_df = group['distanceChangePercentMean']\n",
    "    print(len(idx_df))\n",
    "    \n",
    "    idx_median = np.median(idx_df)\n",
    "    median_df = median_df.append({'TIF': idx, 'addDistanceMedian': idx_median}, ignore_index=True)\n",
    "\n",
    "sns.set(rc={'figure.figsize':(1,1)})\n",
    "\n",
    "sns.lmplot(x='TIF',y='addDistanceMedian',data=median_df,fit_reg=True, height=4, aspect=3/2);\n",
    "plt.xlabel('Traffic Impact Factor')\n",
    "#plt.ylabel('Additional Distance in TMA Median [NM]')\n",
    "plt.ylabel('Additional Distance in TMA Median [%]')\n",
    "\n",
    "#statsmodel:\n",
    "X_df = median_df[['TIF']]\n",
    "y_df = median_df[['addDistanceMedian']]\n",
    "\n",
    "X2 = sm.add_constant(X_df.values)\n",
    "est = sm.OLS(y_df, X2)\n",
    "est2 = est.fit()\n",
    "print(est2.summary())\n",
    "# with outliers - ESGG: 0.84, ESSA: 0.93\n",
    "# without outliers - ESGG: 0.86, ESSA: 0.93"
   ]
  },
  {
   "cell_type": "markdown",
   "metadata": {},
   "source": [
    "## Medians of Average Additional Distance in TMA vs WIF"
   ]
  },
  {
   "cell_type": "code",
   "execution_count": 4,
   "metadata": {},
   "outputs": [
    {
     "name": "stdout",
     "output_type": "stream",
     "text": [
      "WIF\n",
      "10.0     11.536667\n",
      "10.0     87.200000\n",
      "10.0    169.450000\n",
      "10.0     32.346667\n",
      "10.0     62.070000\n",
      "10.0    116.800000\n",
      "10.0    -17.790000\n",
      "10.0     14.875000\n",
      "10.0    151.190000\n",
      "10.0    -10.410000\n",
      "Name: distanceChangePercentMean, dtype: float64\n",
      "                            OLS Regression Results                            \n",
      "==============================================================================\n",
      "Dep. Variable:      addDistanceMedian   R-squared:                       0.490\n",
      "Model:                            OLS   Adj. R-squared:                  0.426\n",
      "Method:                 Least Squares   F-statistic:                     7.675\n",
      "Date:                Fri, 29 Apr 2022   Prob (F-statistic):             0.0243\n",
      "Time:                        11:08:14   Log-Likelihood:                -34.519\n",
      "No. Observations:                  10   AIC:                             73.04\n",
      "Df Residuals:                       8   BIC:                             73.64\n",
      "Df Model:                           1                                         \n",
      "Covariance Type:            nonrobust                                         \n",
      "==============================================================================\n",
      "                 coef    std err          t      P>|t|      [0.025      0.975]\n",
      "------------------------------------------------------------------------------\n",
      "const          3.6680      5.833      0.629      0.547      -9.782      17.118\n",
      "x1             2.6042      0.940      2.770      0.024       0.436       4.772\n",
      "==============================================================================\n",
      "Omnibus:                        4.957   Durbin-Watson:                   1.857\n",
      "Prob(Omnibus):                  0.084   Jarque-Bera (JB):                1.945\n",
      "Skew:                           1.060   Prob(JB):                        0.378\n",
      "Kurtosis:                       3.416   Cond. No.                         13.7\n",
      "==============================================================================\n",
      "\n",
      "Notes:\n",
      "[1] Standard Errors assume that the covariance matrix of the errors is correctly specified.\n"
     ]
    },
    {
     "name": "stderr",
     "output_type": "stream",
     "text": [
      "C:\\Users\\anale19\\Anaconda3\\lib\\site-packages\\scipy\\stats\\stats.py:1603: UserWarning: kurtosistest only valid for n>=20 ... continuing anyway, n=10\n",
      "  warnings.warn(\"kurtosistest only valid for n>=20 ... continuing \"\n"
     ]
    },
    {
     "data": {
      "image/png": "[encoded data removed]",
      "text/plain": [
       "<Figure size 432x288 with 1 Axes>"
      ]
     },
     "metadata": {},
     "output_type": "display_data"
    }
   ],
   "source": [
    "df = metrics_WIF_horizontal_PIs_by_hour_df.copy()\n",
    "df.dropna(inplace=True)\n",
    "df = df[df['numberOfFlights']>0]\n",
    "#p1 = df[\"distanceChangePercentMean\"].quantile(0.05)\n",
    "#p2 = df[\"distanceChangePercentMean\"].quantile(0.95)\n",
    "#df = df.loc[(df['distanceChangePercentMean'] > p1) & (df['distanceChangePercentMean'] < p2) ]\n",
    "\n",
    "df.set_index(['WIF'], inplace=True)\n",
    "df.sort_index(inplace=True)\n",
    "\n",
    "median_df = pd.DataFrame(columns=['WIF', 'addDistanceMedian'])\n",
    "\n",
    "for idx, group in df.groupby(level='WIF'):\n",
    "    \n",
    "    #idx_df = df.loc[idx]['additionalDistanceMean']\n",
    "    idx_df = group['distanceChangePercentMean']\n",
    "    if idx == 10:\n",
    "        print(idx_df)\n",
    "\n",
    "    idx_median = np.median(idx_df)\n",
    "            \n",
    "    median_df = median_df.append({'WIF': idx, 'addDistanceMedian': idx_median}, ignore_index=True)\n",
    "\n",
    "sns.set(rc={'figure.figsize':(1,1)})\n",
    "\n",
    "sns.lmplot(x='WIF',y='addDistanceMedian',data=median_df,fit_reg=True, height=4, aspect=3/2);\n",
    "plt.xlabel('Weather Impact Factor')\n",
    "#plt.ylabel('Additional Distance in TMA Median [NM]')\n",
    "plt.ylabel('Additional Distance in TMA Median [%]')\n",
    "\n",
    "#statsmodel:\n",
    "#median_df = median_df[median_df['WIF']<10]\n",
    "X_df = median_df[['WIF']]\n",
    "y_df = median_df[['addDistanceMedian']]\n",
    "\n",
    "X2 = sm.add_constant(X_df.values)\n",
    "est = sm.OLS(y_df, X2)\n",
    "est2 = est.fit()\n",
    "print(est2.summary()) \n",
    "# with outliers - ESGG: 0.49 ESSA: 0.61\n",
    "# without outliers - ESGG: 0.18 ESSA: 0.18"
   ]
  }
 ],
 "metadata": {
  "kernelspec": {
   "display_name": "Python 3",
   "language": "python",
   "name": "python3"
  },
  "language_info": {
   "codemirror_mode": {
    "name": "ipython",
    "version": 3
   },
   "file_extension": ".py",
   "mimetype": "text/x-python",
   "name": "python",
   "nbconvert_exporter": "python",
   "pygments_lexer": "ipython3",
   "version": "3.8.8"
  }
 },
 "nbformat": 4,
 "nbformat_minor": 4
}
