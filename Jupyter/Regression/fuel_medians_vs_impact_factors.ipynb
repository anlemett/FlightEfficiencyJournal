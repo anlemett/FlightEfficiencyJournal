{
 "cells": [
  {
   "cell_type": "code",
   "execution_count": 1,
   "metadata": {},
   "outputs": [],
   "source": [
    "%matplotlib inline\n",
    "\n",
    "seed_value = 100\n",
    "import os\n",
    "os.environ['PYTHONHASHSEED']=str(seed_value)\n",
    "import random\n",
    "random.seed(seed_value)\n",
    "\n",
    "import numpy as np\n",
    "import pandas as pd\n",
    "import matplotlib.pyplot as plt\n",
    "import plotly\n",
    "import plotly.graph_objs as go\n",
    "import seaborn as sns\n",
    "\n",
    "from sklearn.linear_model import LinearRegression\n",
    "from sklearn import metrics\n",
    "import statsmodels.api as sm\n",
    "from scipy import stats"
   ]
  },
  {
   "cell_type": "markdown",
   "metadata": {},
   "source": [
    "# Data uploading"
   ]
  },
  {
   "cell_type": "code",
   "execution_count": 2,
   "metadata": {},
   "outputs": [],
   "source": [
    "#AIRPORT_ICAO = \"ESGG\"\n",
    "AIRPORT_ICAO = \"ESSA\"\n",
    "\n",
    "RT1 = False\n",
    "remove_outliers = False\n",
    "\n",
    "#runway = \"21\"\n",
    "#cluster = 2\n",
    "\n",
    "DATA_DIR = os.path.join(\"..\", \"..\")\n",
    "DATA_DIR = os.path.join(DATA_DIR, \"data\")\n",
    "DATA_DIR = os.path.join(DATA_DIR, \"Regression\")\n",
    "\n",
    "# WIF\n",
    "if RT1:\n",
    "    filename = AIRPORT_ICAO + \"_metrics_WIF_fuel_by_hour_RT1.csv\"\n",
    "else:\n",
    "    filename = AIRPORT_ICAO + \"_metrics_WIF_fuel_by_hour_RT2.csv\"\n",
    "full_filename = os.path.join(DATA_DIR, filename)\n",
    "metrics_WIF_fuel_by_hour_df = pd.read_csv(full_filename, sep=' ')\n",
    "\n",
    "#print(metrics_WIF_fuel_by_hour_df.head(1))\n",
    "\n",
    "# TIF\n",
    "if RT1:\n",
    "    filename = AIRPORT_ICAO + \"_metrics_TIF_fuel_by_hour_RT1.csv\"\n",
    "else:\n",
    "    filename = AIRPORT_ICAO + \"_metrics_TIF_fuel_by_hour_RT2.csv\"\n",
    "full_filename = os.path.join(DATA_DIR, filename)\n",
    "metrics_TIF_fuel_by_hour_df = pd.read_csv(full_filename, sep=' ')\n",
    "\n",
    "#print(metrics_TIF_fuel_by_hour_df.head(1))"
   ]
  },
  {
   "cell_type": "markdown",
   "metadata": {},
   "source": [
    "## Medians of Average Additional Fuel in TMA vs TIF"
   ]
  },
  {
   "cell_type": "code",
   "execution_count": 3,
   "metadata": {},
   "outputs": [
    {
     "name": "stdout",
     "output_type": "stream",
     "text": [
      "309\n",
      "14\n",
      "9\n",
      "15\n",
      "8\n",
      "7\n",
      "5\n",
      "2\n",
      "2\n",
      "4\n",
      "                            OLS Regression Results                            \n",
      "==============================================================================\n",
      "Dep. Variable:          addFuelMedian   R-squared:                       0.462\n",
      "Model:                            OLS   Adj. R-squared:                  0.395\n",
      "Method:                 Least Squares   F-statistic:                     6.883\n",
      "Date:                Fri, 29 Apr 2022   Prob (F-statistic):             0.0305\n",
      "Time:                        00:07:09   Log-Likelihood:                -39.769\n",
      "No. Observations:                  10   AIC:                             83.54\n",
      "Df Residuals:                       8   BIC:                             84.14\n",
      "Df Model:                           1                                         \n",
      "Covariance Type:            nonrobust                                         \n",
      "==============================================================================\n",
      "                 coef    std err          t      P>|t|      [0.025      0.975]\n",
      "------------------------------------------------------------------------------\n",
      "const         42.8740      9.859      4.349      0.002      20.138      65.610\n",
      "x1             4.1687      1.589      2.623      0.030       0.504       7.833\n",
      "==============================================================================\n",
      "Omnibus:                        3.343   Durbin-Watson:                   0.677\n",
      "Prob(Omnibus):                  0.188   Jarque-Bera (JB):                1.146\n",
      "Skew:                          -0.329   Prob(JB):                        0.564\n",
      "Kurtosis:                       1.477   Cond. No.                         13.7\n",
      "==============================================================================\n",
      "\n",
      "Notes:\n",
      "[1] Standard Errors assume that the covariance matrix of the errors is correctly specified.\n"
     ]
    },
    {
     "name": "stderr",
     "output_type": "stream",
     "text": [
      "C:\\Users\\anale19\\Anaconda3\\lib\\site-packages\\scipy\\stats\\stats.py:1603: UserWarning: kurtosistest only valid for n>=20 ... continuing anyway, n=10\n",
      "  warnings.warn(\"kurtosistest only valid for n>=20 ... continuing \"\n"
     ]
    },
    {
     "data": {
      "image/png": "[encoded data removed]",
      "text/plain": [
       "<Figure size 432x288 with 1 Axes>"
      ]
     },
     "metadata": {},
     "output_type": "display_data"
    }
   ],
   "source": [
    "df = metrics_TIF_fuel_by_hour_df.copy()\n",
    "\n",
    "df = df[df['numberOfFlights']>0]\n",
    "\n",
    "if remove_outliers:\n",
    "    p1 = df[\"addFuelMean\"].quantile(0.05)\n",
    "    p2 = df[\"addFuelMean\"].quantile(0.95)\n",
    "    df = df.loc[(df['addFuelMean'] > p1) & (df['addFuelMean'] < p2) ]\n",
    "\n",
    "df.set_index(['TIF'], inplace=True)\n",
    "df.sort_index(inplace=True)\n",
    "\n",
    "#print(df.head(1))\n",
    "\n",
    "median_df = pd.DataFrame(columns=['TIF', 'addFuelMedian'])\n",
    "\n",
    "for idx, group in df.groupby(level='TIF'):\n",
    "    \n",
    "    idx_df = group['addFuelMean']\n",
    "    print(len(idx_df))\n",
    "    \n",
    "    idx_median = np.median(idx_df)\n",
    "    median_df = median_df.append({'TIF': idx, 'addFuelMedian': idx_median}, ignore_index=True)\n",
    "\n",
    "sns.set(rc={'figure.figsize':(1,1)})\n",
    "\n",
    "sns.lmplot(x='TIF',y='addFuelMedian',data=median_df,fit_reg=True, height=4, aspect=3/2);\n",
    "plt.xlabel('Traffic Impact Factor')\n",
    "#plt.ylabel('Additional Distance in TMA Median [NM]')\n",
    "plt.ylabel('Additional Fuel in TMA Median [kg]')\n",
    "\n",
    "#statsmodel:\n",
    "X_df = median_df[['TIF']]\n",
    "y_df = median_df[['addFuelMedian']]\n",
    "\n",
    "X2 = sm.add_constant(X_df.values)\n",
    "est = sm.OLS(y_df, X2)\n",
    "est2 = est.fit()\n",
    "print(est2.summary())\n",
    "# RT1\n",
    "# with outliers - ESGG: 0.66, ESSA: 0.64\n",
    "# without outliers - ESGG: 0.7, ESSA: 0.57\n",
    "\n",
    "# RT2 \n",
    "# with outliers - ESGG: 0.49, ESSA: 0.65\n",
    "# without outliers - ESGG: 0.12 , ESSA: 0.46"
   ]
  },
  {
   "cell_type": "markdown",
   "metadata": {},
   "source": [
    "## Medians of Average Additional Fuel in TMA vs WIF"
   ]
  },
  {
   "cell_type": "code",
   "execution_count": 4,
   "metadata": {},
   "outputs": [
    {
     "name": "stdout",
     "output_type": "stream",
     "text": [
      "                            OLS Regression Results                            \n",
      "==============================================================================\n",
      "Dep. Variable:          addFuelMedian   R-squared:                       0.696\n",
      "Model:                            OLS   Adj. R-squared:                  0.658\n",
      "Method:                 Least Squares   F-statistic:                     18.34\n",
      "Date:                Fri, 29 Apr 2022   Prob (F-statistic):            0.00268\n",
      "Time:                        00:07:10   Log-Likelihood:                -29.559\n",
      "No. Observations:                  10   AIC:                             63.12\n",
      "Df Residuals:                       8   BIC:                             63.72\n",
      "Df Model:                           1                                         \n",
      "Covariance Type:            nonrobust                                         \n",
      "==============================================================================\n",
      "                 coef    std err          t      P>|t|      [0.025      0.975]\n",
      "------------------------------------------------------------------------------\n",
      "const         35.4972      3.552      9.994      0.000      27.306      43.688\n",
      "x1             2.4516      0.572      4.283      0.003       1.132       3.772\n",
      "==============================================================================\n",
      "Omnibus:                        0.081   Durbin-Watson:                   2.280\n",
      "Prob(Omnibus):                  0.960   Jarque-Bera (JB):                0.274\n",
      "Skew:                           0.146   Prob(JB):                        0.872\n",
      "Kurtosis:                       2.244   Cond. No.                         13.7\n",
      "==============================================================================\n",
      "\n",
      "Notes:\n",
      "[1] Standard Errors assume that the covariance matrix of the errors is correctly specified.\n"
     ]
    },
    {
     "name": "stderr",
     "output_type": "stream",
     "text": [
      "C:\\Users\\anale19\\Anaconda3\\lib\\site-packages\\scipy\\stats\\stats.py:1603: UserWarning: kurtosistest only valid for n>=20 ... continuing anyway, n=10\n",
      "  warnings.warn(\"kurtosistest only valid for n>=20 ... continuing \"\n"
     ]
    },
    {
     "data": {
      "image/png": "[encoded data removed]",
      "text/plain": [
       "<Figure size 432x288 with 1 Axes>"
      ]
     },
     "metadata": {},
     "output_type": "display_data"
    }
   ],
   "source": [
    "df = metrics_WIF_fuel_by_hour_df.copy()\n",
    "df.dropna(inplace=True)\n",
    "df = df[df['numberOfFlights']>0]\n",
    "\n",
    "if remove_outliers:\n",
    "    p1 = df[\"addFuelMean\"].quantile(0.05)\n",
    "    p2 = df[\"addFuelMean\"].quantile(0.95)\n",
    "    df = df.loc[(df['addFuelMean'] > p1) & (df['addFuelMean'] < p2) ]\n",
    "\n",
    "df.set_index(['WIF'], inplace=True)\n",
    "df.sort_index(inplace=True)\n",
    "\n",
    "median_df = pd.DataFrame(columns=['WIF', 'addFuelMedian'])\n",
    "\n",
    "for idx, group in df.groupby(level='WIF'):\n",
    "    \n",
    "    idx_df = group['addFuelMean']\n",
    "\n",
    "    idx_median = np.median(idx_df)\n",
    "            \n",
    "    median_df = median_df.append({'WIF': idx, 'addFuelMedian': idx_median}, ignore_index=True)\n",
    "\n",
    "sns.set(rc={'figure.figsize':(1,1)})\n",
    "\n",
    "sns.lmplot(x='WIF',y='addFuelMedian',data=median_df,fit_reg=True, height=4, aspect=3/2);\n",
    "plt.xlabel('Weather Impact Factor')\n",
    "plt.ylabel('Additional Fuel in TMA Median [kg]')\n",
    "\n",
    "#statsmodel:\n",
    "X_df = median_df[['WIF']]\n",
    "y_df = median_df[['addFuelMedian']]\n",
    "\n",
    "X2 = sm.add_constant(X_df.values)\n",
    "est = sm.OLS(y_df, X2)\n",
    "est2 = est.fit()\n",
    "print(est2.summary()) \n",
    "# RT1\n",
    "# with outliers - ESGG: 0.79  ESSA: 0.65\n",
    "# without outliers - ESGG: 0.75 ESSA: 0.67\n",
    "\n",
    "# RT2\n",
    "# with outliers - ESGG: 0.89 ESSA: 0.74\n",
    "# without outliers - ESGG:0.86  ESSA: 0.7"
   ]
  }
 ],
 "metadata": {
  "kernelspec": {
   "display_name": "Python 3",
   "language": "python",
   "name": "python3"
  },
  "language_info": {
   "codemirror_mode": {
    "name": "ipython",
    "version": 3
   },
   "file_extension": ".py",
   "mimetype": "text/x-python",
   "name": "python",
   "nbconvert_exporter": "python",
   "pygments_lexer": "ipython3",
   "version": "3.8.8"
  }
 },
 "nbformat": 4,
 "nbformat_minor": 4
}
