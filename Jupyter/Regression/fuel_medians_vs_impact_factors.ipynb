{
 "cells": [
  {
   "cell_type": "code",
   "execution_count": 1,
   "metadata": {},
   "outputs": [],
   "source": [
    "%matplotlib inline\n",
    "\n",
    "seed_value = 100\n",
    "import os\n",
    "os.environ['PYTHONHASHSEED']=str(seed_value)\n",
    "import random\n",
    "random.seed(seed_value)\n",
    "\n",
    "import numpy as np\n",
    "import pandas as pd\n",
    "import matplotlib.pyplot as plt\n",
    "import plotly\n",
    "import plotly.graph_objs as go\n",
    "import seaborn as sns\n",
    "\n",
    "from sklearn.linear_model import LinearRegression\n",
    "from sklearn import metrics\n",
    "import statsmodels.api as sm\n",
    "from scipy import stats"
   ]
  },
  {
   "cell_type": "markdown",
   "metadata": {},
   "source": [
    "# Data uploading"
   ]
  },
  {
   "cell_type": "code",
   "execution_count": 2,
   "metadata": {},
   "outputs": [
    {
     "name": "stdout",
     "output_type": "stream",
     "text": [
      "     date  hour  numberOfFlights  addFuelMean  addFuelMedian  WIF\n",
      "0  191001     1                1       86.762         86.762    4\n",
      "     date  hour  numberOfFlights  addFuelMean  addFuelMedian  TIF\n",
      "0  191001     5                1       -1.776         -1.776    1\n"
     ]
    }
   ],
   "source": [
    "AIRPORT_ICAO = \"ESGG\"\n",
    "#AIRPORT_ICAO = \"ESSA\"\n",
    "\n",
    "RT1 = True\n",
    "remove_outliers = False\n",
    "\n",
    "#runway = \"21\"\n",
    "#cluster = 2\n",
    "\n",
    "DATA_DIR = os.path.join(\"..\", \"..\")\n",
    "DATA_DIR = os.path.join(DATA_DIR, \"data\")\n",
    "DATA_DIR = os.path.join(DATA_DIR, \"Regression\")\n",
    "\n",
    "# WIF\n",
    "if RT1:\n",
    "    filename = AIRPORT_ICAO + \"_metrics_WIF_fuel_by_hour_RT1.csv\"\n",
    "else:\n",
    "    filename = AIRPORT_ICAO + \"_metrics_WIF_fuel_by_hour_RT2.csv\"\n",
    "full_filename = os.path.join(DATA_DIR, filename)\n",
    "metrics_WIF_fuel_by_hour_df = pd.read_csv(full_filename, sep=' ')\n",
    "\n",
    "print(metrics_WIF_fuel_by_hour_df.head(1))\n",
    "\n",
    "# TIF\n",
    "if RT1:\n",
    "    filename = AIRPORT_ICAO + \"_metrics_TIF_fuel_by_hour_RT1.csv\"\n",
    "else:\n",
    "    filename = AIRPORT_ICAO + \"_metrics_TIF_fuel_by_hour_RT2.csv\"\n",
    "full_filename = os.path.join(DATA_DIR, filename)\n",
    "metrics_TIF_fuel_by_hour_df = pd.read_csv(full_filename, sep=' ')\n",
    "\n",
    "print(metrics_TIF_fuel_by_hour_df.head(1))"
   ]
  },
  {
   "cell_type": "markdown",
   "metadata": {},
   "source": [
    "# Average Additiona Fuel (RT1)"
   ]
  },
  {
   "cell_type": "markdown",
   "metadata": {},
   "source": [
    "## Medians of Average Additional Fuel in TMA vs TIF"
   ]
  },
  {
   "cell_type": "code",
   "execution_count": 3,
   "metadata": {},
   "outputs": [
    {
     "name": "stdout",
     "output_type": "stream",
     "text": [
      "       date  hour  numberOfFlights  addFuelMean  addFuelMedian\n",
      "TIF                                                           \n",
      "1    191001     5                1       -1.776         -1.776\n",
      "251\n",
      "99\n",
      "89\n",
      "60\n",
      "45\n",
      "34\n",
      "2\n",
      "2\n",
      "1\n",
      "                            OLS Regression Results                            \n",
      "==============================================================================\n",
      "Dep. Variable:          addFuelMedian   R-squared:                       0.045\n",
      "Model:                            OLS   Adj. R-squared:                 -0.091\n",
      "Method:                 Least Squares   F-statistic:                    0.3335\n",
      "Date:                Fri, 25 Mar 2022   Prob (F-statistic):              0.582\n",
      "Time:                        13:18:43   Log-Likelihood:                -29.989\n",
      "No. Observations:                   9   AIC:                             63.98\n",
      "Df Residuals:                       7   BIC:                             64.37\n",
      "Df Model:                           1                                         \n",
      "Covariance Type:            nonrobust                                         \n",
      "==============================================================================\n",
      "                 coef    std err          t      P>|t|      [0.025      0.975]\n",
      "------------------------------------------------------------------------------\n",
      "const         32.9903      5.580      5.912      0.001      19.795      46.186\n",
      "x1             0.5726      0.992      0.577      0.582      -1.772       2.918\n",
      "==============================================================================\n",
      "Omnibus:                        6.424   Durbin-Watson:                   2.686\n",
      "Prob(Omnibus):                  0.040   Jarque-Bera (JB):                1.797\n",
      "Skew:                          -0.870   Prob(JB):                        0.407\n",
      "Kurtosis:                       4.327   Cond. No.                         12.6\n",
      "==============================================================================\n",
      "\n",
      "Notes:\n",
      "[1] Standard Errors assume that the covariance matrix of the errors is correctly specified.\n"
     ]
    },
    {
     "name": "stderr",
     "output_type": "stream",
     "text": [
      "C:\\Users\\anale19\\Anaconda3\\lib\\site-packages\\scipy\\stats\\stats.py:1603: UserWarning: kurtosistest only valid for n>=20 ... continuing anyway, n=9\n",
      "  warnings.warn(\"kurtosistest only valid for n>=20 ... continuing \"\n"
     ]
    },
    {
     "data": {
      "image/png": "[encoded data removed]",
      "text/plain": [
       "<Figure size 432x288 with 1 Axes>"
      ]
     },
     "metadata": {},
     "output_type": "display_data"
    }
   ],
   "source": [
    "df = metrics_TIF_fuel_by_hour_df.copy()\n",
    "\n",
    "df = df[df['numberOfFlights']>0]\n",
    "\n",
    "if remove_outliers:\n",
    "    p1 = df[\"addFuelMean\"].quantile(0.05)\n",
    "    p2 = df[\"addFuelMean\"].quantile(0.95)\n",
    "    df = df.loc[(df['addFuelMean'] > p1) & (df['addFuelMean'] < p2) ]\n",
    "\n",
    "df.set_index(['TIF'], inplace=True)\n",
    "df.sort_index(inplace=True)\n",
    "\n",
    "print(df.head(1))\n",
    "\n",
    "median_df = pd.DataFrame(columns=['TIF', 'addFuelMedian'])\n",
    "\n",
    "for idx, group in df.groupby(level='TIF'):\n",
    "    \n",
    "    idx_df = group['addFuelMean']\n",
    "    print(len(idx_df))\n",
    "    \n",
    "    idx_median = np.median(idx_df)\n",
    "    median_df = median_df.append({'TIF': idx, 'addFuelMedian': idx_median}, ignore_index=True)\n",
    "\n",
    "sns.set(rc={'figure.figsize':(1,1)})\n",
    "\n",
    "sns.lmplot(x='TIF',y='addFuelMedian',data=median_df,fit_reg=True, height=4, aspect=3/2);\n",
    "plt.xlabel('Traffic Impact Factor')\n",
    "#plt.ylabel('Additional Distance in TMA Median [NM]')\n",
    "plt.ylabel('Additional Fuel in TMA Median [kg]')\n",
    "\n",
    "#statsmodel:\n",
    "X_df = median_df[['TIF']]\n",
    "y_df = median_df[['addFuelMedian']]\n",
    "\n",
    "X2 = sm.add_constant(X_df.values)\n",
    "est = sm.OLS(y_df, X2)\n",
    "est2 = est.fit()\n",
    "print(est2.summary())\n",
    "# RT1\n",
    "# with outliers - ESGG: 0.05, ESSA: 0.88\n",
    "# without outliers - ESGG: 0.05, ESSA: 0.84\n",
    "\n",
    "# RT2 (only ESGG April 2020 now)\n",
    "# with outliers - ESGG: 0.05, ESSA: \n",
    "# without outliers - ESGG: 0.05, ESSA: "
   ]
  },
  {
   "cell_type": "markdown",
   "metadata": {},
   "source": [
    "## Medians of Average Additional Fuel in TMA vs WIF"
   ]
  },
  {
   "cell_type": "code",
   "execution_count": 4,
   "metadata": {},
   "outputs": [
    {
     "name": "stdout",
     "output_type": "stream",
     "text": [
      "                            OLS Regression Results                            \n",
      "==============================================================================\n",
      "Dep. Variable:          addFuelMedian   R-squared:                       0.434\n",
      "Model:                            OLS   Adj. R-squared:                  0.353\n",
      "Method:                 Least Squares   F-statistic:                     5.370\n",
      "Date:                Fri, 25 Mar 2022   Prob (F-statistic):             0.0536\n",
      "Time:                        13:18:44   Log-Likelihood:                -42.222\n",
      "No. Observations:                   9   AIC:                             88.44\n",
      "Df Residuals:                       7   BIC:                             88.84\n",
      "Df Model:                           1                                         \n",
      "Covariance Type:            nonrobust                                         \n",
      "==============================================================================\n",
      "                 coef    std err          t      P>|t|      [0.025      0.975]\n",
      "------------------------------------------------------------------------------\n",
      "const          1.3827     21.725      0.064      0.951     -49.989      52.754\n",
      "x1             8.9462      3.861      2.317      0.054      -0.183      18.075\n",
      "==============================================================================\n",
      "Omnibus:                        4.792   Durbin-Watson:                   1.656\n",
      "Prob(Omnibus):                  0.091   Jarque-Bera (JB):                1.325\n",
      "Skew:                           0.866   Prob(JB):                        0.516\n",
      "Kurtosis:                       3.732   Cond. No.                         12.6\n",
      "==============================================================================\n",
      "\n",
      "Notes:\n",
      "[1] Standard Errors assume that the covariance matrix of the errors is correctly specified.\n"
     ]
    },
    {
     "name": "stderr",
     "output_type": "stream",
     "text": [
      "C:\\Users\\anale19\\Anaconda3\\lib\\site-packages\\scipy\\stats\\stats.py:1603: UserWarning: kurtosistest only valid for n>=20 ... continuing anyway, n=9\n",
      "  warnings.warn(\"kurtosistest only valid for n>=20 ... continuing \"\n"
     ]
    },
    {
     "data": {
      "image/png": "[encoded data removed]",
      "text/plain": [
       "<Figure size 432x288 with 1 Axes>"
      ]
     },
     "metadata": {},
     "output_type": "display_data"
    }
   ],
   "source": [
    "df = metrics_WIF_fuel_by_hour_df.copy()\n",
    "df.dropna(inplace=True)\n",
    "df = df[df['numberOfFlights']>0]\n",
    "\n",
    "if remove_outliers:\n",
    "    p1 = df[\"addFuelMean\"].quantile(0.05)\n",
    "    p2 = df[\"addFuelMean\"].quantile(0.95)\n",
    "    df = df.loc[(df['addFuelMean'] > p1) & (df['addFuelMean'] < p2) ]\n",
    "\n",
    "df.set_index(['WIF'], inplace=True)\n",
    "df.sort_index(inplace=True)\n",
    "\n",
    "median_df = pd.DataFrame(columns=['WIF', 'addFuelMedian'])\n",
    "\n",
    "for idx, group in df.groupby(level='WIF'):\n",
    "    \n",
    "    idx_df = group['addFuelMean']\n",
    "\n",
    "    idx_median = np.median(idx_df)\n",
    "            \n",
    "    median_df = median_df.append({'WIF': idx, 'addFuelMedian': idx_median}, ignore_index=True)\n",
    "\n",
    "sns.set(rc={'figure.figsize':(1,1)})\n",
    "\n",
    "sns.lmplot(x='WIF',y='addFuelMedian',data=median_df,fit_reg=True, height=4, aspect=3/2);\n",
    "plt.xlabel('Weather Impact Factor')\n",
    "plt.ylabel('Additional Fuel in TMA Median [kg]')\n",
    "\n",
    "#statsmodel:\n",
    "X_df = median_df[['WIF']]\n",
    "y_df = median_df[['addFuelMedian']]\n",
    "\n",
    "X2 = sm.add_constant(X_df.values)\n",
    "est = sm.OLS(y_df, X2)\n",
    "est2 = est.fit()\n",
    "print(est2.summary()) \n",
    "# RT1\n",
    "# with outliers - ESGG: 0.43 ESSA: 0.41\n",
    "# without outliers - ESGG: 0.54 ESSA: 0.05\n",
    "\n",
    "# RT2\n",
    "# with outliers - ESGG: 0.35 ESSA: \n",
    "# without outliers - ESGG: 0.46 ESSA: "
   ]
  }
 ],
 "metadata": {
  "kernelspec": {
   "display_name": "Python 3",
   "language": "python",
   "name": "python3"
  },
  "language_info": {
   "codemirror_mode": {
    "name": "ipython",
    "version": 3
   },
   "file_extension": ".py",
   "mimetype": "text/x-python",
   "name": "python",
   "nbconvert_exporter": "python",
   "pygments_lexer": "ipython3",
   "version": "3.8.8"
  }
 },
 "nbformat": 4,
 "nbformat_minor": 4
}
