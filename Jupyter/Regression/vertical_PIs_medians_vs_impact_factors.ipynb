{
 "cells": [
  {
   "cell_type": "code",
   "execution_count": 1,
   "metadata": {},
   "outputs": [],
   "source": [
    "%matplotlib inline\n",
    "\n",
    "seed_value = 100\n",
    "import os\n",
    "os.environ['PYTHONHASHSEED']=str(seed_value)\n",
    "import random\n",
    "random.seed(seed_value)\n",
    "\n",
    "import numpy as np\n",
    "import pandas as pd\n",
    "import matplotlib.pyplot as plt\n",
    "import plotly\n",
    "import plotly.graph_objs as go\n",
    "import seaborn as sns\n",
    "\n",
    "from sklearn.linear_model import LinearRegression\n",
    "from sklearn import metrics\n",
    "import statsmodels.api as sm\n",
    "from scipy import stats\n",
    "\n",
    "\n",
    "import warnings\n",
    "warnings.filterwarnings('ignore')"
   ]
  },
  {
   "cell_type": "markdown",
   "metadata": {},
   "source": [
    "# Data uploading"
   ]
  },
  {
   "cell_type": "code",
   "execution_count": 2,
   "metadata": {},
   "outputs": [],
   "source": [
    "#AIRPORT_ICAO = \"ESGG\"\n",
    "AIRPORT_ICAO = \"ESSA\"\n",
    "\n",
    "DATA_DIR = os.path.join(\"..\", \"..\")\n",
    "DATA_DIR = os.path.join(DATA_DIR, \"data\")\n",
    "DATA_DIR = os.path.join(DATA_DIR, \"Regression\")\n",
    "\n",
    "# AIF\n",
    "filename = AIRPORT_ICAO + \"_metrics_AIF_vertical_PIs_by_hour.csv\"\n",
    "full_filename = os.path.join(DATA_DIR, filename)\n",
    "metrics_AIF_vertical_PIs_by_hour_df = pd.read_csv(full_filename, sep=' ')\n",
    "\n",
    "# WIF\n",
    "filename = AIRPORT_ICAO + \"_metrics_WIF_vertical_PIs_by_hour.csv\"\n",
    "full_filename = os.path.join(DATA_DIR, filename)\n",
    "metrics_WIF_vertical_PIs_by_hour_df = pd.read_csv(full_filename, sep=' ')\n",
    "\n",
    "# TIF\n",
    "filename = AIRPORT_ICAO + \"_metrics_TIF_vertical_PIs_by_hour.csv\"\n",
    "full_filename = os.path.join(DATA_DIR, filename)\n",
    "metrics_TIF_vertical_PIs_by_hour_df = pd.read_csv(full_filename, sep=' ')"
   ]
  },
  {
   "cell_type": "markdown",
   "metadata": {},
   "source": [
    "# Average Time On Levels"
   ]
  },
  {
   "cell_type": "markdown",
   "metadata": {},
   "source": [
    "## Medians of Average Time On Levels vs TIF"
   ]
  },
  {
   "cell_type": "code",
   "execution_count": 3,
   "metadata": {},
   "outputs": [
    {
     "name": "stdout",
     "output_type": "stream",
     "text": [
      "                            OLS Regression Results                            \n",
      "==============================================================================\n",
      "Dep. Variable:     timeOnLevelsMedian   R-squared:                       0.627\n",
      "Model:                            OLS   Adj. R-squared:                  0.580\n",
      "Method:                 Least Squares   F-statistic:                     13.42\n",
      "Date:                Mon, 30 May 2022   Prob (F-statistic):            0.00637\n",
      "Time:                        14:57:39   Log-Likelihood:                -2.1550\n",
      "No. Observations:                  10   AIC:                             8.310\n",
      "Df Residuals:                       8   BIC:                             8.915\n",
      "Df Model:                           1                                         \n",
      "Covariance Type:            nonrobust                                         \n",
      "==============================================================================\n",
      "                 coef    std err          t      P>|t|      [0.025      0.975]\n",
      "------------------------------------------------------------------------------\n",
      "const          3.8372      0.229     16.738      0.000       3.309       4.366\n",
      "x1             0.1354      0.037      3.664      0.006       0.050       0.221\n",
      "==============================================================================\n",
      "Omnibus:                        1.613   Durbin-Watson:                   0.779\n",
      "Prob(Omnibus):                  0.447   Jarque-Bera (JB):                0.792\n",
      "Skew:                           0.668   Prob(JB):                        0.673\n",
      "Kurtosis:                       2.663   Cond. No.                         13.7\n",
      "==============================================================================\n",
      "\n",
      "Notes:\n",
      "[1] Standard Errors assume that the covariance matrix of the errors is correctly specified.\n"
     ]
    },
    {
     "data": {
      "image/png": "[encoded data removed]",
      "text/plain": [
       "<Figure size 432x288 with 1 Axes>"
      ]
     },
     "metadata": {},
     "output_type": "display_data"
    }
   ],
   "source": [
    "df = metrics_TIF_vertical_PIs_by_hour_df.copy()\n",
    "df['TIF'] = df['TIF'].astype(float)\n",
    "df = df[df['numberOfFlights']>0]\n",
    "#p1 = df[\"timeOnLevelsPercentMean\"].quantile(0.05)\n",
    "#p2 = df[\"timeOnLevelsPercentMean\"].quantile(0.95)\n",
    "#df = df.loc[(df['timeOnLevelsPercentMean'] > p1) & (df['timeOnLevelsPercentMean'] < p2) ]\n",
    "\n",
    "df.set_index(['TIF'], inplace=True)\n",
    "df.sort_index(inplace=True)\n",
    "\n",
    "median_df = pd.DataFrame(columns=['TIF', 'timeOnLevelsMedian'])\n",
    "\n",
    "for idx, group in df.groupby(level='TIF'):\n",
    "    \n",
    "    idx_df = group['timeOnLevelsPercentMean']\n",
    "\n",
    "    idx_median = np.median(idx_df)\n",
    "    median_df = median_df.append({'TIF': idx, 'timeOnLevelsMedian': idx_median}, ignore_index=True)\n",
    "\n",
    "median_df['TIF'] = median_df['TIF'].astype(np.float)\n",
    "median_df['timeOnLevelsMedian'] = median_df['timeOnLevelsMedian'].astype(np.float)\n",
    "\n",
    "sns.set(rc={'figure.figsize':(1,1)})\n",
    "sns_plot = sns.lmplot(x='TIF',y='timeOnLevelsMedian',data=median_df,fit_reg=True, height=4, aspect=3/2);\n",
    "plt.xlabel('Traffic Impact Factor')\n",
    "plt.ylabel('Time Flown Level Median [%]')\n",
    "fig_name = \"TimeOnLevelsVsTIF.png\"\n",
    "plt.savefig(fig_name, bbox_inches='tight')\n",
    "\n",
    "#statsmodel:\n",
    "X_df = median_df[['TIF']]\n",
    "y_df = median_df[['timeOnLevelsMedian']]\n",
    "\n",
    "X2 = sm.add_constant(X_df.values)\n",
    "est = sm.OLS(y_df.astype(float), X2.astype(float))\n",
    "est2 = est.fit()\n",
    "print(est2.summary()) \n",
    "# with outliers - ESGG: 0.13 ESSA: 0.63\n",
    "# without outliers - ESGG: 0.01 ESSA: 0.4"
   ]
  },
  {
   "cell_type": "markdown",
   "metadata": {},
   "source": [
    "## Medians of Average Time On Levels vs WIF"
   ]
  },
  {
   "cell_type": "code",
   "execution_count": 7,
   "metadata": {},
   "outputs": [
    {
     "name": "stdout",
     "output_type": "stream",
     "text": [
      "424\n",
      "2316\n",
      "3382\n",
      "2618\n",
      "2127\n",
      "1256\n",
      "492\n",
      "163\n",
      "34\n",
      "9\n",
      "                            OLS Regression Results                            \n",
      "==============================================================================\n",
      "Dep. Variable:     timeOnLevelsMedian   R-squared:                       0.759\n",
      "Model:                            OLS   Adj. R-squared:                  0.729\n",
      "Method:                 Least Squares   F-statistic:                     25.16\n",
      "Date:                Mon, 30 May 2022   Prob (F-statistic):            0.00103\n",
      "Time:                        15:16:30   Log-Likelihood:                -10.737\n",
      "No. Observations:                  10   AIC:                             25.47\n",
      "Df Residuals:                       8   BIC:                             26.08\n",
      "Df Model:                           1                                         \n",
      "Covariance Type:            nonrobust                                         \n",
      "==============================================================================\n",
      "                 coef    std err          t      P>|t|      [0.025      0.975]\n",
      "------------------------------------------------------------------------------\n",
      "const          2.9185      0.541      5.397      0.001       1.671       4.166\n",
      "x1             0.4372      0.087      5.016      0.001       0.236       0.638\n",
      "==============================================================================\n",
      "Omnibus:                        0.854   Durbin-Watson:                   0.568\n",
      "Prob(Omnibus):                  0.653   Jarque-Bera (JB):                0.669\n",
      "Skew:                           0.520   Prob(JB):                        0.716\n",
      "Kurtosis:                       2.277   Cond. No.                         13.7\n",
      "==============================================================================\n",
      "\n",
      "Notes:\n",
      "[1] Standard Errors assume that the covariance matrix of the errors is correctly specified.\n"
     ]
    },
    {
     "data": {
      "image/png": "[encoded data removed]",
      "text/plain": [
       "<Figure size 432x288 with 1 Axes>"
      ]
     },
     "metadata": {},
     "output_type": "display_data"
    }
   ],
   "source": [
    "df = metrics_WIF_vertical_PIs_by_hour_df.copy()\n",
    "df = df[df['numberOfFlights']>0]\n",
    "#p1 = df[\"timeOnLevelsPercentMean\"].quantile(0.05)\n",
    "#p2 = df[\"timeOnLevelsPercentMean\"].quantile(0.95)\n",
    "#df = df.loc[(df['timeOnLevelsPercentMean'] > p1) & (df['timeOnLevelsPercentMean'] < p2) ]\n",
    "\n",
    "df.set_index(['WIF'], inplace=True)\n",
    "df.sort_index(inplace=True)\n",
    "\n",
    "median_df = pd.DataFrame(columns=['WIF', 'timeOnLevelsMedian'])\n",
    "\n",
    "for idx, group in df.groupby(level='WIF'):\n",
    "    \n",
    "    idx_df = group['timeOnLevelsPercentMean']\n",
    "    print(len(idx_df))\n",
    "    \n",
    "    idx_median = np.median(idx_df)\n",
    "    median_df = median_df.append({'WIF': idx, 'timeOnLevelsMedian': idx_median}, ignore_index=True)\n",
    "\n",
    "median_df['WIF'] = median_df['WIF'].astype(np.float)\n",
    "median_df['timeOnLevelsMedian'] = median_df['timeOnLevelsMedian'].astype(np.float)\n",
    "\n",
    "sns.set(rc={'figure.figsize':(1,1)})\n",
    "\n",
    "sns.lmplot(x='WIF',y='timeOnLevelsMedian',data=median_df,fit_reg=True, height=4, aspect=3/2);\n",
    "plt.xlabel('Weather Impact Factor')\n",
    "plt.ylabel('Time Flown Level Median [%]')\n",
    "\n",
    "#statsmodel:\n",
    "X_df = median_df[['WIF']]\n",
    "y_df = median_df[['timeOnLevelsMedian']]\n",
    "\n",
    "X2 = sm.add_constant(X_df.values)\n",
    "est = sm.OLS(y_df, X2)\n",
    "est2 = est.fit()\n",
    "print(est2.summary()) \n",
    "# with outliers - ESGG: 0.57 ESSA: 0.76\n",
    "# without outliers - ESGG: 0.93 ESSA: 0.73"
   ]
  },
  {
   "cell_type": "markdown",
   "metadata": {},
   "source": [
    "## Medians of Average Time On Levels vs AIF¶"
   ]
  },
  {
   "cell_type": "code",
   "execution_count": null,
   "metadata": {},
   "outputs": [],
   "source": [
    "df = metrics_AIF_vertical_PIs_by_hour_df.copy()\n",
    "#df = df[df['numberOfFlights']>0]\n",
    "p1 = df[\"timeOnLevelsPercentMean\"].quantile(0.05)\n",
    "p2 = df[\"timeOnLevelsPercentMean\"].quantile(0.95)\n",
    "#df = df.loc[(df['timeOnLevelsPercentMean'] > p1) & (df['timeOnLevelsPercentMean'] < p2) ]\n",
    "\n",
    "df.set_index(['AIF'], inplace=True)\n",
    "df.sort_index(inplace=True)\n",
    "\n",
    "median_df = pd.DataFrame(columns=['AIF', 'timeOnLevelsMedian'])\n",
    "\n",
    "for idx, group in df.groupby(level='AIF'):\n",
    "    \n",
    "    idx_df = group['timeOnLevelsPercentMean']\n",
    "    \n",
    "    idx_median = np.median(idx_df)\n",
    "    median_df = median_df.append({'AIF': idx, 'timeOnLevelsMedian': idx_median}, ignore_index=True)\n",
    "\n",
    "sns.set(rc={'figure.figsize':(1,1)})\n",
    "\n",
    "sns.lmplot(x='AIF',y='timeOnLevelsMedian',data=median_df,fit_reg=True, height=4, aspect=3/2);\n",
    "plt.xlabel('Aggregated Impact Factor')\n",
    "plt.ylabel('Time Flown Level Median [%]')\n",
    "\n",
    "#statsmodel:\n",
    "X_df = median_df[['AIF']]\n",
    "y_df = median_df[['timeOnLevelsMedian']]\n",
    "\n",
    "X2 = sm.add_constant(X_df.values)\n",
    "est = sm.OLS(y_df, X2)\n",
    "est2 = est.fit()\n",
    "print(est2.summary()) \n",
    "# with outliers - ESGG: 0.71 ESSA: 0.85\n",
    "# without outliers - ESGG: 0.72 ESSA: 0.75"
   ]
  },
  {
   "cell_type": "code",
   "execution_count": null,
   "metadata": {},
   "outputs": [],
   "source": [
    "median_df = pd.DataFrame(columns=['TIF', 'timeOnLevelsMedian'])\n",
    "\n",
    "median_df = median_df.append({'TIF': 1.0, 'timeOnLevelsMedian': 1.0}, ignore_index=True)\n",
    "median_df = median_df.append({'TIF': 2.0, 'timeOnLevelsMedian': 2.0}, ignore_index=True)\n",
    "median_df = median_df.append({'TIF': 3.0, 'timeOnLevelsMedian': 3.0}, ignore_index=True)\n",
    "\n",
    "median_df['TIF'] = median_df['TIF'].astype(np.float)\n",
    "median_df['timeOnLevelsMedian'] = median_df['timeOnLevelsMedian'].astype(np.float)\n",
    "#x= median_df['TIF'].to_numpy()\n",
    "#x = x.astype(np.float)\n",
    "#y= median_df['timeOnLevelsMedian'].to_numpy()\n",
    "#y = y.astype(np.float)\n",
    "sns.regplot(x='TIF', y='timeOnLevelsMedian', data=median_df)\n",
    "#sns.regplot(x=x, y=y, color=\"g\")\n",
    "plt.xlabel('Traffic Impact Factor')\n",
    "plt.ylabel('Time Flown Level Median [%]')\n",
    "fig_name = \"temp.png\"\n",
    "\n",
    "plt.savefig(fig_name,bbox_inches='tight')\n",
    "#plt.show()"
   ]
  },
  {
   "cell_type": "code",
   "execution_count": null,
   "metadata": {},
   "outputs": [],
   "source": [
    "import numpy as np; np.random.seed(8)\n",
    "mean, cov = [4, 6], [(1.5, .7), (.7, 1)]\n",
    "x, y = np.random.multivariate_normal(mean, cov, 8).T\n",
    "print(x)\n",
    "print(y)\n",
    "sns.regplot(x=x, y=y, color=\"g\")"
   ]
  }
 ],
 "metadata": {
  "kernelspec": {
   "display_name": "Python 3 (ipykernel)",
   "language": "python",
   "name": "python3"
  },
  "language_info": {
   "codemirror_mode": {
    "name": "ipython",
    "version": 3
   },
   "file_extension": ".py",
   "mimetype": "text/x-python",
   "name": "python",
   "nbconvert_exporter": "python",
   "pygments_lexer": "ipython3",
   "version": "3.9.12"
  }
 },
 "nbformat": 4,
 "nbformat_minor": 4
}
