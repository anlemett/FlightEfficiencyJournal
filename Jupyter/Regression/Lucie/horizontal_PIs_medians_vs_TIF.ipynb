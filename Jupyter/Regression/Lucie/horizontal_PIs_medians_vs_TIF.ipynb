{
 "cells": [
  {
   "cell_type": "code",
   "execution_count": 1,
   "metadata": {},
   "outputs": [],
   "source": [
    "%matplotlib inline\n",
    "\n",
    "seed_value = 100\n",
    "import os\n",
    "os.environ['PYTHONHASHSEED']=str(seed_value)\n",
    "import random\n",
    "random.seed(seed_value)\n",
    "\n",
    "import numpy as np\n",
    "import pandas as pd\n",
    "import matplotlib.pyplot as plt\n",
    "import plotly\n",
    "import plotly.graph_objs as go\n",
    "import seaborn as sns\n",
    "\n",
    "from sklearn.linear_model import LinearRegression\n",
    "from sklearn import metrics\n",
    "import statsmodels.api as sm\n",
    "from scipy import stats"
   ]
  },
  {
   "cell_type": "markdown",
   "metadata": {},
   "source": [
    "# Data uploading"
   ]
  },
  {
   "cell_type": "code",
   "execution_count": 6,
   "metadata": {},
   "outputs": [],
   "source": [
    "AIRPORT_ICAO = \"ESGG\"\n",
    "#AIRPORT_ICAO = \"ESSA\"\n",
    "\n",
    "remove_outliers = True\n",
    "\n",
    "DATA_DIR = os.path.join(\"..\", \"..\")\n",
    "DATA_DIR = os.path.join(DATA_DIR, \"data\")\n",
    "DATA_DIR = os.path.join(DATA_DIR, \"Regression\")\n",
    "\n",
    "# TIF\n",
    "filename = AIRPORT_ICAO + \"_metrics_TIF_horizontal_PIs_by_hour.csv\"\n",
    "metrics_TIF_horizontal_PIs_by_hour_df = pd.read_csv(filename, sep=' ')"
   ]
  },
  {
   "cell_type": "markdown",
   "metadata": {},
   "source": [
    "# Average Additional Distance"
   ]
  },
  {
   "cell_type": "markdown",
   "metadata": {},
   "source": [
    "## Medians of Average Additional Distance in TMA vs TIF"
   ]
  },
  {
   "cell_type": "code",
   "execution_count": 7,
   "metadata": {},
   "outputs": [
    {
     "name": "stdout",
     "output_type": "stream",
     "text": [
      "                            OLS Regression Results                            \n",
      "==============================================================================\n",
      "Dep. Variable:      addDistanceMedian   R-squared:                       0.855\n",
      "Model:                            OLS   Adj. R-squared:                  0.836\n",
      "Method:                 Least Squares   F-statistic:                     46.99\n",
      "Date:                Fri, 25 Mar 2022   Prob (F-statistic):           0.000130\n",
      "Time:                        13:36:14   Log-Likelihood:                -22.996\n",
      "No. Observations:                  10   AIC:                             49.99\n",
      "Df Residuals:                       8   BIC:                             50.60\n",
      "Df Model:                           1                                         \n",
      "Covariance Type:            nonrobust                                         \n",
      "==============================================================================\n",
      "                 coef    std err          t      P>|t|      [0.025      0.975]\n",
      "------------------------------------------------------------------------------\n",
      "const          8.8006      1.843      4.776      0.001       4.552      13.049\n",
      "x1             2.0355      0.297      6.855      0.000       1.351       2.720\n",
      "==============================================================================\n",
      "Omnibus:                        0.687   Durbin-Watson:                   1.001\n",
      "Prob(Omnibus):                  0.709   Jarque-Bera (JB):                0.072\n",
      "Skew:                          -0.200   Prob(JB):                        0.965\n",
      "Kurtosis:                       2.889   Cond. No.                         13.7\n",
      "==============================================================================\n",
      "\n",
      "Notes:\n",
      "[1] Standard Errors assume that the covariance matrix of the errors is correctly specified.\n"
     ]
    },
    {
     "name": "stderr",
     "output_type": "stream",
     "text": [
      "C:\\Users\\anale19\\Anaconda3\\lib\\site-packages\\scipy\\stats\\stats.py:1603: UserWarning: kurtosistest only valid for n>=20 ... continuing anyway, n=10\n",
      "  warnings.warn(\"kurtosistest only valid for n>=20 ... continuing \"\n"
     ]
    },
    {
     "data": {
      "image/png": "[encoded data removed]",
      "text/plain": [
       "<Figure size 432x288 with 1 Axes>"
      ]
     },
     "metadata": {},
     "output_type": "display_data"
    }
   ],
   "source": [
    "df = metrics_TIF_horizontal_PIs_by_hour_df.copy()\n",
    "df = df[df['numberOfFlights']>0]\n",
    "\n",
    "if remove_outliers:\n",
    "    p1 = df[\"distanceChangePercentMean\"].quantile(0.05)\n",
    "    p2 = df[\"distanceChangePercentMean\"].quantile(0.95)\n",
    "    df = df.loc[(df['distanceChangePercentMean'] > p1) & (df['distanceChangePercentMean'] < p2) ]\n",
    "\n",
    "df.set_index(['TIF'], inplace=True)\n",
    "df.sort_index(inplace=True)\n",
    "\n",
    "median_df = pd.DataFrame(columns=['TIF', 'addDistanceMedian'])\n",
    "\n",
    "for idx, group in df.groupby(level='TIF'):\n",
    "    \n",
    "    idx_df = group['distanceChangePercentMean']\n",
    "    \n",
    "    idx_median = np.median(idx_df)\n",
    "    median_df = median_df.append({'TIF': idx, 'addDistanceMedian': idx_median}, ignore_index=True)\n",
    "\n",
    "sns.set(rc={'figure.figsize':(1,1)})\n",
    "\n",
    "sns.lmplot(x='TIF',y='addDistanceMedian',data=median_df,fit_reg=True, height=4, aspect=3/2);\n",
    "plt.xlabel('Traffic Impact Factor')\n",
    "plt.ylabel('Additional Distance in TMA Median [%]')\n",
    "\n",
    "#statsmodel:\n",
    "X_df = median_df[['TIF']]\n",
    "y_df = median_df[['addDistanceMedian']]\n",
    "\n",
    "X2 = sm.add_constant(X_df.values)\n",
    "est = sm.OLS(y_df, X2)\n",
    "est2 = est.fit()\n",
    "print(est2.summary())"
   ]
  }
 ],
 "metadata": {
  "kernelspec": {
   "display_name": "Python 3",
   "language": "python",
   "name": "python3"
  },
  "language_info": {
   "codemirror_mode": {
    "name": "ipython",
    "version": 3
   },
   "file_extension": ".py",
   "mimetype": "text/x-python",
   "name": "python",
   "nbconvert_exporter": "python",
   "pygments_lexer": "ipython3",
   "version": "3.8.8"
  }
 },
 "nbformat": 4,
 "nbformat_minor": 4
}
